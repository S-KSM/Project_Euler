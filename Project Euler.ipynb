{
 "cells": [
  {
   "cell_type": "code",
   "execution_count": 32,
   "metadata": {
    "collapsed": false
   },
   "outputs": [
    {
     "name": "stdout",
     "output_type": "stream",
     "text": [
      "233168\n"
     ]
    }
   ],
   "source": [
    "#Project Euler 1\n",
    "import timeit\n",
    "def div_by_3(x):\n",
    "    if x % 3 == 0:\n",
    "        return x\n",
    "    else:\n",
    "        return 0\n",
    "\n",
    "def div_by_5(x):\n",
    "    if x % 5 == 0:\n",
    "        if x % 3 != 0:\n",
    "            return x\n",
    "        else:\n",
    "            return 0\n",
    "    else:\n",
    "        return 0\n",
    " \n",
    "sum_35 = 0\n",
    "x = list(range(1,1000))\n",
    "for number in x:\n",
    "    sum_35 += div_by_3(number)\n",
    "    \n",
    "for number in x:\n",
    "    sum_35 += div_by_5(number)\n",
    "print(sum_35)"
   ]
  },
  {
   "cell_type": "code",
   "execution_count": 3,
   "metadata": {
    "collapsed": false
   },
   "outputs": [
    {
     "name": "stdout",
     "output_type": "stream",
     "text": [
      "4613732\n"
     ]
    }
   ],
   "source": [
    "#Project Euler 2\n",
    "def fib_recursive(n):\n",
    "    if n == 0:\n",
    "        return 0\n",
    "    elif n == 1:\n",
    "        return 1\n",
    "    else:\n",
    "        return fib_recursive(n-1) + fib_recursive(n-2)\n",
    "\n",
    "count = 0\n",
    "y = 0\n",
    "fib_list = []\n",
    "final = 0\n",
    "while y < 4000001:\n",
    "    y = fib_recursive(count)\n",
    "    if y%2 == 0:\n",
    "        fib_list.append(y)\n",
    "    \n",
    "    count += 1\n",
    "final = sum(fib_list)\n",
    "print(final)"
   ]
  },
  {
   "cell_type": "code",
   "execution_count": 14,
   "metadata": {
    "collapsed": false
   },
   "outputs": [
    {
     "data": {
      "text/plain": [
       "[71, 839, 1471, 6857]"
      ]
     },
     "execution_count": 14,
     "metadata": {},
     "output_type": "execute_result"
    }
   ],
   "source": [
    "#Project Euler 3\n",
    "x = 600851475143\n",
    "def prime_factors(n):\n",
    "    i = 2\n",
    "    factors = []\n",
    "    while i * i <= n:\n",
    "        if n % i:\n",
    "            i += 1\n",
    "        else:\n",
    "            n //= i\n",
    "            factors.append(i)\n",
    "    if n > 1:\n",
    "        factors.append(n)\n",
    "    return factors\n",
    "\n",
    "prime_factors(x)"
   ]
  },
  {
   "cell_type": "code",
   "execution_count": 5,
   "metadata": {
    "collapsed": false
   },
   "outputs": [
    {
     "data": {
      "text/plain": [
       "[6857]"
      ]
     },
     "execution_count": 5,
     "metadata": {},
     "output_type": "execute_result"
    }
   ],
   "source": [
    "prime_factors(6857)"
   ]
  },
  {
   "cell_type": "code",
   "execution_count": 4,
   "metadata": {
    "collapsed": false
   },
   "outputs": [
    {
     "name": "stdout",
     "output_type": "stream",
     "text": [
      "580085\n",
      "906609\n",
      "119911\n",
      "282282\n",
      "853358\n",
      "650056\n",
      "408804\n",
      "623326\n",
      "525525\n",
      "299992\n",
      "469964\n",
      "886688\n",
      "828828\n",
      "487784\n",
      "180081\n",
      "888888\n",
      "348843\n",
      "770077\n",
      "653356\n",
      "855558\n",
      "577775\n",
      "723327\n",
      "272272\n",
      "292292\n",
      "840048\n",
      "238832\n",
      "227722\n",
      "595595\n",
      "564465\n",
      "861168\n",
      "470074\n",
      "489984\n",
      "693396\n",
      "672276\n",
      "579975\n",
      "888888\n",
      "476674\n",
      "780087\n",
      "393393\n",
      "886688\n",
      "513315\n",
      "824428\n",
      "906609\n",
      "551155\n",
      "819918\n",
      "657756\n",
      "507705\n",
      "407704\n",
      "168861\n",
      "824428\n",
      "828828\n",
      "561165\n",
      "855558\n",
      "461164\n",
      "840048\n",
      "536635\n",
      "428824\n",
      "272272\n",
      "602206\n",
      "252252\n",
      "106601\n",
      "618816\n",
      "280082\n",
      "93839\n",
      "663366\n",
      "652256\n",
      "737737\n",
      "853358\n",
      "821128\n",
      "801108\n",
      "89198\n",
      "523325\n",
      "749947\n",
      "198891\n",
      "828828\n",
      "675576\n",
      "345543\n",
      "802208\n",
      "780087\n",
      "297792\n",
      "585585\n",
      "807708\n",
      "510015\n",
      "508805\n",
      "698896\n",
      "678876\n",
      "595595\n",
      "804408\n",
      "579975\n",
      "462264\n",
      "371173\n",
      "660066\n",
      "747747\n",
      "611116\n",
      "84048\n",
      "678876\n",
      "366663\n",
      "696696\n",
      "639936\n",
      "434434\n",
      "575575\n",
      "654456\n",
      "770077\n",
      "378873\n",
      "689986\n",
      "675576\n",
      "565565\n",
      "642246\n",
      "276672\n",
      "266662\n",
      "84348\n",
      "239932\n",
      "666666\n",
      "571175\n",
      "630036\n",
      "612216\n",
      "619916\n",
      "489984\n",
      "82728\n",
      "513315\n",
      "545545\n",
      "477774\n",
      "359953\n",
      "723327\n",
      "506605\n",
      "696696\n",
      "297792\n",
      "535535\n",
      "693396\n",
      "85158\n",
      "270072\n",
      "636636\n",
      "171171\n",
      "154451\n",
      "89298\n",
      "654456\n",
      "525525\n",
      "661166\n",
      "611116\n",
      "696696\n",
      "99599\n",
      "672276\n",
      "698896\n",
      "515515\n",
      "80908\n",
      "595595\n",
      "219912\n",
      "399993\n",
      "650056\n",
      "91719\n",
      "82128\n",
      "606606\n",
      "639936\n",
      "579975\n",
      "83538\n",
      "576675\n",
      "489984\n",
      "573375\n",
      "290092\n",
      "666666\n",
      "570075\n",
      "636636\n",
      "401104\n",
      "550055\n",
      "86868\n",
      "127721\n",
      "653356\n",
      "648846\n",
      "452254\n",
      "520025\n",
      "81618\n",
      "630036\n",
      "650056\n",
      "83538\n",
      "604406\n",
      "98489\n",
      "137731\n",
      "282282\n",
      "90009\n",
      "438834\n",
      "416614\n",
      "631136\n",
      "76167\n",
      "471174\n",
      "78287\n",
      "611116\n",
      "588885\n",
      "81018\n",
      "528825\n",
      "84348\n",
      "623326\n",
      "616616\n",
      "447744\n",
      "509905\n",
      "522225\n",
      "215512\n",
      "589985\n",
      "456654\n",
      "579975\n",
      "67176\n",
      "92529\n",
      "320023\n",
      "462264\n",
      "96869\n",
      "464464\n",
      "534435\n",
      "601106\n",
      "296692\n",
      "63036\n",
      "282282\n",
      "63336\n",
      "65056\n",
      "65556\n",
      "459954\n",
      "592295\n",
      "88788\n",
      "225522\n",
      "89698\n",
      "138831\n",
      "560065\n",
      "414414\n",
      "99699\n",
      "84348\n",
      "554455\n",
      "468864\n",
      "75057\n",
      "83638\n",
      "252252\n",
      "548845\n",
      "67976\n",
      "82928\n",
      "580085\n",
      "294492\n",
      "98189\n",
      "71217\n",
      "87278\n",
      "374473\n",
      "468864\n",
      "239932\n",
      "384483\n",
      "484484\n",
      "82928\n",
      "68486\n",
      "297792\n",
      "421124\n",
      "83738\n",
      "513315\n",
      "74347\n",
      "270072\n",
      "441144\n",
      "67276\n",
      "543345\n",
      "402204\n",
      "474474\n",
      "513315\n",
      "440044\n",
      "493394\n",
      "474474\n",
      "507705\n",
      "488884\n",
      "249942\n",
      "525525\n",
      "491194\n",
      "83838\n",
      "239932\n",
      "432234\n",
      "442244\n",
      "489984\n",
      "399993\n",
      "61016\n",
      "276672\n",
      "165561\n",
      "444444\n",
      "514415\n",
      "420024\n",
      "63736\n",
      "85158\n",
      "489984\n",
      "292292\n",
      "425524\n",
      "86868\n",
      "53235\n",
      "487784\n",
      "97079\n",
      "82328\n",
      "99699\n",
      "367763\n",
      "85158\n",
      "68586\n",
      "485584\n",
      "59895\n",
      "49894\n",
      "86768\n",
      "56465\n",
      "408804\n",
      "445544\n",
      "299992\n",
      "58685\n",
      "469964\n",
      "414414\n",
      "88688\n",
      "444444\n",
      "87178\n",
      "67876\n",
      "72027\n",
      "272272\n",
      "57475\n",
      "86268\n",
      "420024\n",
      "238832\n",
      "108801\n",
      "85358\n",
      "252252\n",
      "354453\n",
      "56265\n",
      "86768\n",
      "61116\n",
      "444444\n",
      "86668\n",
      "83538\n",
      "443344\n",
      "412214\n",
      "55055\n",
      "82628\n",
      "88788\n",
      "407704\n",
      "412214\n",
      "81718\n",
      "65856\n",
      "162261\n",
      "436634\n",
      "420024\n",
      "428824\n",
      "272272\n",
      "252252\n",
      "280082\n",
      "60006\n",
      "221122\n",
      "273372\n",
      "59595\n",
      "43834\n",
      "92229\n",
      "63936\n",
      "62926\n",
      "414414\n",
      "277772\n",
      "84348\n",
      "57375\n",
      "401104\n",
      "297792\n",
      "259952\n",
      "70307\n",
      "308803\n",
      "408804\n",
      "105501\n",
      "84448\n",
      "53535\n",
      "45954\n",
      "55755\n",
      "231132\n",
      "330033\n",
      "74847\n",
      "219912\n",
      "369963\n",
      "232232\n",
      "279972\n",
      "76167\n",
      "225522\n",
      "66566\n",
      "171171\n",
      "66466\n",
      "187781\n",
      "297792\n",
      "57275\n",
      "47674\n",
      "276672\n",
      "219912\n",
      "266662\n",
      "372273\n",
      "294492\n",
      "378873\n",
      "284482\n",
      "55055\n",
      "48384\n",
      "82728\n",
      "87478\n",
      "129921\n",
      "83538\n",
      "232232\n",
      "297792\n",
      "57375\n",
      "272272\n",
      "37673\n",
      "270072\n",
      "212212\n",
      "198891\n",
      "238832\n",
      "81618\n",
      "59495\n",
      "292292\n",
      "348843\n",
      "62626\n",
      "71117\n",
      "90109\n",
      "80908\n",
      "219912\n",
      "88288\n",
      "59995\n",
      "82128\n",
      "99899\n",
      "297792\n",
      "90909\n",
      "50605\n",
      "82128\n",
      "290092\n",
      "62626\n",
      "93639\n",
      "86868\n",
      "301103\n",
      "324423\n",
      "61516\n",
      "329923\n",
      "65856\n",
      "59295\n",
      "66466\n",
      "234432\n",
      "40504\n",
      "302203\n",
      "282282\n",
      "88888\n",
      "273372\n",
      "204402\n",
      "52325\n",
      "35853\n",
      "68586\n",
      "180081\n",
      "280082\n",
      "258852\n",
      "149941\n",
      "215512\n",
      "55755\n",
      "286682\n",
      "37873\n",
      "80808\n",
      "174471\n",
      "231132\n",
      "299992\n",
      "256652\n",
      "225522\n",
      "65056\n",
      "279972\n",
      "88788\n",
      "168861\n",
      "161161\n",
      "89698\n",
      "94149\n",
      "234432\n",
      "59295\n",
      "252252\n",
      "67976\n",
      "82928\n",
      "92829\n",
      "95659\n",
      "234432\n",
      "239932\n",
      "282282\n",
      "52725\n",
      "84348\n",
      "99899\n",
      "29892\n",
      "95259\n",
      "270072\n",
      "67276\n",
      "201102\n",
      "57475\n",
      "220022\n",
      "252252\n",
      "86768\n",
      "244442\n",
      "99799\n",
      "46364\n",
      "83838\n",
      "239932\n",
      "59095\n",
      "255552\n",
      "90209\n",
      "27772\n",
      "117711\n",
      "222222\n",
      "210012\n",
      "63736\n",
      "48384\n",
      "57375\n",
      "86868\n",
      "238832\n",
      "48384\n",
      "90109\n",
      "85158\n",
      "215512\n",
      "171171\n",
      "89298\n",
      "57575\n",
      "82228\n",
      "227722\n",
      "88688\n",
      "128821\n",
      "219912\n",
      "91719\n",
      "82128\n",
      "58985\n",
      "83538\n",
      "78987\n",
      "86768\n",
      "222222\n",
      "87478\n",
      "86868\n",
      "182281\n",
      "80908\n",
      "57375\n",
      "84448\n",
      "188881\n",
      "210012\n",
      "83538\n",
      "90009\n",
      "89598\n",
      "76167\n",
      "82728\n",
      "55255\n",
      "65056\n",
      "92229\n",
      "44944\n",
      "92629\n",
      "204402\n",
      "84448\n",
      "96669\n",
      "89198\n",
      "55555\n",
      "84048\n",
      "84448\n",
      "49894\n",
      "98289\n",
      "99699\n",
      "89298\n",
      "75057\n",
      "88788\n",
      "53235\n",
      "142241\n",
      "69696\n",
      "87478\n",
      "90909\n",
      "86668\n",
      "180081\n",
      "87978\n",
      "54945\n",
      "88688\n",
      "81618\n",
      "88088\n",
      "93939\n",
      "155551\n",
      "88288\n",
      "98589\n",
      "86768\n",
      "57575\n",
      "82128\n",
      "165561\n",
      "86868\n",
      "98189\n",
      "80808\n",
      "99699\n",
      "85158\n",
      "59895\n",
      "88888\n",
      "102201\n",
      "68586\n",
      "95559\n",
      "86268\n",
      "143341\n",
      "86268\n",
      "56265\n",
      "88088\n",
      "83538\n",
      "80408\n",
      "88788\n",
      "98489\n",
      "80808\n",
      "93639\n",
      "89498\n",
      "59595\n",
      "80208\n",
      "141141\n",
      "85058\n",
      "29892\n",
      "105501\n",
      "87078\n",
      "110011\n",
      "86768\n",
      "58185\n",
      "85358\n",
      "74347\n",
      "84348\n",
      "39693\n",
      "91719\n",
      "48384\n",
      "92329\n",
      "83538\n",
      "57875\n",
      "88288\n",
      "117711\n",
      "82228\n",
      "119911\n",
      "98889\n",
      "89798\n",
      "99099\n",
      "86768\n",
      "56465\n",
      "86868\n",
      "95259\n",
      "84448\n",
      "90909\n",
      "99299\n",
      "84348\n",
      "93839\n",
      "44944\n",
      "58485\n",
      "88088\n",
      "89198\n",
      "84048\n",
      "49894\n"
     ]
    }
   ],
   "source": [
    "#Project Euler 4\n",
    "def palindromic(x):\n",
    "    x = str(x)\n",
    "    count = 1\n",
    "    xn=\"\"\n",
    "    xp = x[:len(x)//2]\n",
    "    while count < len(x)//2 + 1:\n",
    "        xn = xn + str(x[-1*count])\n",
    "        count +=1\n",
    "\n",
    "    if xp == xn:\n",
    "        return True\n",
    "    else:\n",
    "        return False\n",
    "    \n",
    "\n",
    "for i in range(999,100,-1):\n",
    "    for j in range(999,100,-1):\n",
    "        y = palindromic(i*j)\n",
    "        if y == True:\n",
    "            print(i*j)\n",
    "            \n",
    "# faster\n",
    "b = 999 ** 2\n",
    "def palinCheck(n):\n",
    "\treturn str(n) == str(n)[::-1]\n",
    "while b > 10000:\n",
    "\tif palinCheck(b) == True:\n",
    "\t\ta = 999\n",
    "\t\twhile a > 100:\n",
    "\t\t\tif b % a == 0 and b / a < 1000:\n",
    "\t\t\t\tprint(b)\n",
    "\t\t\t\traise SystemExit\n",
    "\t\t\ta = a - 1\n",
    "    b = b - 1"
   ]
  },
  {
   "cell_type": "code",
   "execution_count": 35,
   "metadata": {
    "collapsed": false
   },
   "outputs": [
    {
     "name": "stdout",
     "output_type": "stream",
     "text": [
      "232792560\n",
      "232792560\n",
      "232792560\n",
      "232792560\n",
      "232792560\n",
      "232792560\n",
      "232792560\n",
      "232792560\n",
      "232792560\n",
      "232792560\n",
      "860.2410556512548\n"
     ]
    }
   ],
   "source": [
    "#Project Euler 5 brute force solution (not scalable)\n",
    "import timeit\n",
    "def test():\n",
    "    def devisable(x,y):\n",
    "        if x % y == 0:\n",
    "            return True\n",
    "        else:\n",
    "            return False\n",
    "\n",
    "    i = 20\n",
    "    limit = 1\n",
    "\n",
    "    for number in range(1,i+1):\n",
    "        limit *= number\n",
    "    while i < limit:\n",
    "        j = 2\n",
    "        n = i\n",
    "        while j < 21:\n",
    "            x = devisable(i,j)\n",
    "            if x == False:\n",
    "                i += 1\n",
    "            else:\n",
    "                j += 1\n",
    "        if n == i :\n",
    "            print(i)\n",
    "            break\n",
    "\n",
    "print(timeit.timeit(\"test()\",setup=\"from __main__ import test\",number = 10))\n",
    "\n",
    "\n",
    "                "
   ]
  },
  {
   "cell_type": "code",
   "execution_count": 34,
   "metadata": {
    "collapsed": false
   },
   "outputs": [
    {
     "name": "stdout",
     "output_type": "stream",
     "text": [
      "[2, 2, 2, 2, 3, 3, 5, 7, 11, 13, 17, 19]\n",
      "232792560\n",
      "[2, 2, 2, 2, 3, 3, 5, 7, 11, 13, 17, 19]\n",
      "232792560\n",
      "[2, 2, 2, 2, 3, 3, 5, 7, 11, 13, 17, 19]\n",
      "232792560\n",
      "[2, 2, 2, 2, 3, 3, 5, 7, 11, 13, 17, 19]\n",
      "232792560\n",
      "[2, 2, 2, 2, 3, 3, 5, 7, 11, 13, 17, 19]\n",
      "232792560\n",
      "[2, 2, 2, 2, 3, 3, 5, 7, 11, 13, 17, 19]\n",
      "232792560\n",
      "[2, 2, 2, 2, 3, 3, 5, 7, 11, 13, 17, 19]\n",
      "232792560\n",
      "[2, 2, 2, 2, 3, 3, 5, 7, 11, 13, 17, 19]\n",
      "232792560\n",
      "[2, 2, 2, 2, 3, 3, 5, 7, 11, 13, 17, 19]\n",
      "232792560\n",
      "[2, 2, 2, 2, 3, 3, 5, 7, 11, 13, 17, 19]\n",
      "232792560\n",
      "0.002231917575954867\n"
     ]
    }
   ],
   "source": [
    "#Project Euler 5 better solution\n",
    "import timeit\n",
    "def test1():\n",
    "    def isfactor(lst, d):\n",
    "        for num in lst:\n",
    "            if num % d == 0:\n",
    "                return True\n",
    "        return False\n",
    "\n",
    "    def divide(lst, d):\n",
    "        return [n / d if n % d == 0 else n for n in lst]\n",
    "\n",
    "    pfacts = []\n",
    "\n",
    "    def lcm(arr, d):\n",
    "        if arr == [1] * len(arr):\n",
    "            return pfacts\n",
    "        else:\n",
    "            if isfactor(arr, d):\n",
    "                pfacts.append(d)\n",
    "                return lcm(divide(arr, d), d)\n",
    "            else:\n",
    "                return lcm(arr, d + 1)\n",
    "\n",
    "    nums = range(1, 21)\n",
    "    pf = lcm(nums, 2)\n",
    "    print (pf)\n",
    "    n = 1\n",
    "    for number in pf:\n",
    "        n *= number\n",
    "\n",
    "    print(n)\n",
    "\n",
    "\n",
    "    \n",
    "print(timeit.timeit(\"test1()\",setup=\"from __main__ import test1\",number= 10))\n"
   ]
  },
  {
   "cell_type": "code",
   "execution_count": 73,
   "metadata": {
    "collapsed": false
   },
   "outputs": [
    {
     "name": "stdout",
     "output_type": "stream",
     "text": [
      "2.5000016666641667e+23\n"
     ]
    },
    {
     "data": {
      "text/plain": [
       "0.7891096620351163"
      ]
     },
     "execution_count": 73,
     "metadata": {},
     "output_type": "execute_result"
    }
   ],
   "source": [
    "#Project Euler 6\n",
    "import timeit\n",
    "def test():\n",
    "    def sq(x):\n",
    "        return x**2\n",
    "    def sm (x,y):\n",
    "        return x + y\n",
    "    sm_sq = 0.0\n",
    "    sq_sm = 0.0\n",
    "    limit = 100\n",
    "    for i in range(1,limit+1):\n",
    "        sm_sq = sm (sq(i),sm_sq)\n",
    "        sq_sm = sm(sq_sm,i)\n",
    "\n",
    "    print (sq(sq_sm)-sm_sq)\n",
    "    \n",
    "timeit.timeit(\"test()\",\"from __main__ import test\",number=1)"
   ]
  },
  {
   "cell_type": "code",
   "execution_count": 72,
   "metadata": {
    "collapsed": false
   },
   "outputs": [
    {
     "name": "stdout",
     "output_type": "stream",
     "text": [
      "2.5000016666641667e+23\n"
     ]
    },
    {
     "data": {
      "text/plain": [
       "4.1054624489333946e-05"
      ]
     },
     "execution_count": 72,
     "metadata": {},
     "output_type": "execute_result"
    }
   ],
   "source": [
    "#Project Euler 6 better algorithem\n",
    "import timeit\n",
    "def test():\n",
    "    limit = 100\n",
    "    sums = limit*(limit + 1)/2\n",
    "    sum_sq = (2*limit + 1)*(limit + 1)* limit/6\n",
    "    difference = sums**2 - sum_sq\n",
    "    print(difference)\n",
    "\n",
    "timeit.timeit(\"test()\",setup=\"from __main__ import test\",number=1)"
   ]
  },
  {
   "cell_type": "code",
   "execution_count": 110,
   "metadata": {
    "collapsed": false
   },
   "outputs": [
    {
     "name": "stdout",
     "output_type": "stream",
     "text": [
      "104743\n"
     ]
    },
    {
     "data": {
      "text/plain": [
       "0.339743699398241"
      ]
     },
     "execution_count": 110,
     "metadata": {},
     "output_type": "execute_result"
    }
   ],
   "source": [
    "#Projec Euler 7\n",
    "def test():\n",
    "    n = 1 # counter of the prime number\n",
    "    import math\n",
    "    def is_prime(x):\n",
    "        k = 1\n",
    "        for i in range(1,int(math.sqrt(x)) + 1):\n",
    "            if x % i == 0: \n",
    "                k += 1\n",
    "                if k >2: break\n",
    "        if k == 2:\n",
    "            return True\n",
    "        else:\n",
    "            return False\n",
    "\n",
    "    limit = 10001\n",
    "    i = 3\n",
    "    while n < limit:\n",
    "\n",
    "        if  is_prime(i) == True:\n",
    "            n += 1\n",
    "            #print(i)\n",
    "        i += 2\n",
    "    print( i-2) \n",
    "    \n",
    "import timeit\n",
    "timeit.timeit(\"test()\", \"from __main__ import test\", number = 1)"
   ]
  },
  {
   "cell_type": "code",
   "execution_count": 113,
   "metadata": {
    "collapsed": false
   },
   "outputs": [
    {
     "name": "stdout",
     "output_type": "stream",
     "text": [
      "224759\n"
     ]
    },
    {
     "data": {
      "text/plain": [
       "0.42771691809684853"
      ]
     },
     "execution_count": 113,
     "metadata": {},
     "output_type": "execute_result"
    }
   ],
   "source": [
    "#Project Euler 7 better algorithem, saves the prime numbers and only checks them (sieve method(?))\n",
    "def nthPrimeFinder(n):\n",
    "    ps  = [2, 3, 5]\n",
    "    add = 2\n",
    "    k   = 5\n",
    "\n",
    "    while (len(ps)<n):\n",
    "        k += add\n",
    "        rt  = k**0.5 + 1\n",
    "\n",
    "        for p in ps:\n",
    "            if k%p==0:\n",
    "                break\n",
    "            elif p>rt:\n",
    "                ps.append(k)\n",
    "                break\n",
    "        else:\n",
    "            ps.append(k)\n",
    "            \n",
    "        add = 6 - add\n",
    "    else:\n",
    "        return ps[n-1]\n",
    "\n",
    "import timeit\n",
    "\n",
    "timeit.timeit(\"print(nthPrimeFinder(20002))\",\"from __main__ import nthPrimeFinder\",number=1)"
   ]
  },
  {
   "cell_type": "code",
   "execution_count": 140,
   "metadata": {
    "collapsed": false
   },
   "outputs": [
    {
     "name": "stdout",
     "output_type": "stream",
     "text": [
      "23514624000\n"
     ]
    }
   ],
   "source": [
    "#Project Euler 8\n",
    "number = \"7316717653133062491922511967442657474235534919493496983520312774506326239578318016984801869478851843858615607891129494954595017379583319528532088055111254069874715852386305071569329096329522744304355766896648950445244523161731856403098711121722383113622298934233803081353362766142828064444866452387493035890729629049156044077239071381051585930796086670172427121883998797908792274921901699720888093776657273330010533678812202354218097512545405947522435258490771167055601360483958644670632441572215539753697817977846174064955149290862569321978468622482839722413756570560574902614079729686524145351004748216637048440319989000889524345065854122758866688116427171479924442928230863465674813919123162824586178664583591245665294765456828489128831426076900422421902267105562632111110937054421750694165896040807198403850962455444362981230987879927244284909188845801561660979191338754992005240636899125607176060588611646710940507754100225698315520005593572972571636269561882670428252483600823257530420752963450\"\n",
    "def get_thirteen(i,x):\n",
    "    x = str(x)  \n",
    "    z = x[i:i+14]\n",
    "    return z\n",
    "j = 0\n",
    "final_mult = 0\n",
    "while j + 13 < len(number): \n",
    "    g = get_thirteen(j,number)\n",
    "    mult = 1\n",
    "    for i in range(0,13):\n",
    "        mult *= int(g[i])\n",
    "        \n",
    "    if final_mult < mult:\n",
    "        final_mult = mult\n",
    "    j += 1\n",
    "    \n",
    "print(final_mult)"
   ]
  },
  {
   "cell_type": "code",
   "execution_count": 142,
   "metadata": {
    "collapsed": false
   },
   "outputs": [
    {
     "name": "stdout",
     "output_type": "stream",
     "text": [
      "31875000\n",
      "31875000\n"
     ]
    },
    {
     "ename": "KeyboardInterrupt",
     "evalue": "",
     "output_type": "error",
     "traceback": [
      "\u001b[1;31m---------------------------------------------------------------------------\u001b[0m",
      "\u001b[1;31mKeyboardInterrupt\u001b[0m                         Traceback (most recent call last)",
      "\u001b[1;32m<ipython-input-142-f441d9435df3>\u001b[0m in \u001b[0;36m<module>\u001b[1;34m()\u001b[0m\n\u001b[0;32m      4\u001b[0m     \u001b[1;32mfor\u001b[0m \u001b[0mb\u001b[0m \u001b[1;32min\u001b[0m \u001b[0mrange\u001b[0m\u001b[1;33m(\u001b[0m\u001b[1;36m1\u001b[0m\u001b[1;33m,\u001b[0m\u001b[1;36m1000\u001b[0m\u001b[1;33m)\u001b[0m\u001b[1;33m:\u001b[0m\u001b[1;33m\u001b[0m\u001b[0m\n\u001b[0;32m      5\u001b[0m         \u001b[1;32mfor\u001b[0m \u001b[0mc\u001b[0m \u001b[1;32min\u001b[0m \u001b[0mrange\u001b[0m \u001b[1;33m(\u001b[0m\u001b[1;36m1\u001b[0m\u001b[1;33m,\u001b[0m\u001b[1;36m1000\u001b[0m\u001b[1;33m)\u001b[0m\u001b[1;33m:\u001b[0m\u001b[1;33m\u001b[0m\u001b[0m\n\u001b[1;32m----> 6\u001b[1;33m             \u001b[1;32mif\u001b[0m \u001b[1;33m(\u001b[0m\u001b[0ma\u001b[0m\u001b[1;33m**\u001b[0m\u001b[1;36m2\u001b[0m \u001b[1;33m+\u001b[0m \u001b[0mb\u001b[0m \u001b[1;33m**\u001b[0m\u001b[1;36m2\u001b[0m \u001b[1;33m==\u001b[0m \u001b[0mc\u001b[0m\u001b[1;33m**\u001b[0m\u001b[1;36m2\u001b[0m\u001b[1;33m)\u001b[0m \u001b[1;32mand\u001b[0m \u001b[1;33m(\u001b[0m\u001b[0ma\u001b[0m \u001b[1;33m+\u001b[0m \u001b[0mb\u001b[0m \u001b[1;33m+\u001b[0m \u001b[0mc\u001b[0m \u001b[1;33m==\u001b[0m \u001b[1;36m1000\u001b[0m\u001b[1;33m)\u001b[0m\u001b[1;33m:\u001b[0m\u001b[1;33m\u001b[0m\u001b[0m\n\u001b[0m\u001b[0;32m      7\u001b[0m                 \u001b[0mprint\u001b[0m\u001b[1;33m(\u001b[0m\u001b[0ma\u001b[0m\u001b[1;33m*\u001b[0m\u001b[0mb\u001b[0m\u001b[1;33m*\u001b[0m\u001b[0mc\u001b[0m\u001b[1;33m)\u001b[0m\u001b[1;33m\u001b[0m\u001b[0m\n",
      "\u001b[1;31mKeyboardInterrupt\u001b[0m: "
     ]
    }
   ],
   "source": [
    "#Project Euler 9\n",
    "\n",
    "for a in range(1,1000):\n",
    "    for b in range(1,1000):\n",
    "        for c in range (1,1000):\n",
    "            if (a**2 + b **2 == c**2) and (a + b + c == 1000):\n",
    "                print(a*b*c)"
   ]
  },
  {
   "cell_type": "code",
   "execution_count": 143,
   "metadata": {
    "collapsed": false
   },
   "outputs": [
    {
     "name": "stdout",
     "output_type": "stream",
     "text": [
      "31875000\n"
     ]
    }
   ],
   "source": [
    "# Project Euler 9 Better algorithem based on Euclid\n",
    "for m in range(1,30):\n",
    "    for n in range(1,30):\n",
    "        a = m**2 - n ** 2\n",
    "        b = 2*m*n\n",
    "        c = m**2 + n**2\n",
    "        if a + b + c ==1000:\n",
    "            print(a*b*c)"
   ]
  },
  {
   "cell_type": "code",
   "execution_count": 144,
   "metadata": {
    "collapsed": false
   },
   "outputs": [
    {
     "name": "stdout",
     "output_type": "stream",
     "text": [
      "142913828922\n"
     ]
    }
   ],
   "source": [
    "#Project Euler 10\n",
    "### Optional Sieve of Atkins that generates prime numbers\n",
    "import math\n",
    "\n",
    "def sieveOfAtkin(limit):\n",
    "    P = [2,3]\n",
    "    sieve=[False]*(limit+1)\n",
    "    for x in range(1,int(math.sqrt(limit))+1):\n",
    "        for y in range(1,int(math.sqrt(limit))+1):\n",
    "            n = 4*x**2 + y**2\n",
    "            if n<=limit and (n%12==1 or n%12==5) : sieve[n] = not sieve[n]\n",
    "            n = 3*x**2+y**2\n",
    "            if n<= limit and n%12==7 : sieve[n] = not sieve[n]\n",
    "            n = 3*x**2 - y**2\n",
    "            if x>y and n<=limit and n%12==11 : sieve[n] = not sieve[n]\n",
    "    for x in range(5,int(math.sqrt(limit))):\n",
    "        if sieve[x]:\n",
    "            for y in range(x**2,limit+1,x**2):\n",
    "                sieve[y] = False\n",
    "    for p in range(5,limit):\n",
    "        if sieve[p] : P.append(p)\n",
    "    return P\n",
    "\n",
    "x = sieveOfAtkin(2000000)\n",
    "b = sum(x)\n",
    "print(b)"
   ]
  },
  {
   "cell_type": "code",
   "execution_count": 184,
   "metadata": {
    "collapsed": false
   },
   "outputs": [
    {
     "name": "stdout",
     "output_type": "stream",
     "text": [
      "70600674.0\n"
     ]
    }
   ],
   "source": [
    "# Project Euler 11\n",
    "import numpy as np\n",
    "data = np.loadtxt(\"twenty_20.txt\")\n",
    "\n",
    "def diagonal (data,x,y):\n",
    "    z = 1\n",
    "    if x < data.shape[0]-3 and y < data.shape[1]-3:\n",
    "        for i in range(0,4):\n",
    "            z *= data[x + i][y + i]\n",
    "        return z\n",
    "    else:\n",
    "        return 0\n",
    "\n",
    "def antdiagonal (data,x,y):\n",
    "    z = 1\n",
    "    if x < data.shape[0]-3 and y < data.shape[1]-3:\n",
    "        for i in range(0,4):\n",
    "            z *= data[x + i][y - i]\n",
    "        return z\n",
    "    else:\n",
    "        return 0    \n",
    "\n",
    "def horizontal (data,x,y):\n",
    "    z = 1\n",
    "    if x < data.shape[0]-3:\n",
    "        for i in range(0,4):\n",
    "            z *= data[x + i][y]\n",
    "        return z\n",
    "    else:\n",
    "        return 0\n",
    "def vertical (data, x ,y):\n",
    "    z = 1\n",
    "    if y < data.shape[1]-3:\n",
    "        for i in range(0,4):\n",
    "            z *= data[x][y + i]\n",
    "        return z\n",
    "    else:\n",
    "        return 0\n",
    "maximum = 0\n",
    "for i in range(0,len(data)-1):\n",
    "    for j in range (0, len(data)-1):\n",
    "        vert = vertical(data,i,j)\n",
    "        hori = horizontal(data,i,j)\n",
    "        diag = diagonal(data,i,j)\n",
    "        adia = antdiagonal(data,i,j)\n",
    "        maximum = max(vert, hori, diag,adia, maximum)\n",
    "\n",
    "print( maximum)"
   ]
  },
  {
   "cell_type": "code",
   "execution_count": 215,
   "metadata": {
    "collapsed": false
   },
   "outputs": [
    {
     "ename": "KeyboardInterrupt",
     "evalue": "",
     "output_type": "error",
     "traceback": [
      "\u001b[1;31m---------------------------------------------------------------------------\u001b[0m",
      "\u001b[1;31mKeyboardInterrupt\u001b[0m                         Traceback (most recent call last)",
      "\u001b[1;32m<ipython-input-215-094aabd87228>\u001b[0m in \u001b[0;36m<module>\u001b[1;34m()\u001b[0m\n\u001b[0;32m     19\u001b[0m         \u001b[0my\u001b[0m \u001b[1;33m=\u001b[0m \u001b[0mtriangular_sum\u001b[0m\u001b[1;33m(\u001b[0m\u001b[0mi\u001b[0m\u001b[1;33m)\u001b[0m\u001b[1;33m\u001b[0m\u001b[0m\n\u001b[0;32m     20\u001b[0m         \u001b[1;31m#print (y)\u001b[0m\u001b[1;33m\u001b[0m\u001b[1;33m\u001b[0m\u001b[0m\n\u001b[1;32m---> 21\u001b[1;33m         \u001b[0mz\u001b[0m \u001b[1;33m=\u001b[0m \u001b[0mdivisors_num\u001b[0m\u001b[1;33m(\u001b[0m\u001b[0my\u001b[0m\u001b[1;33m)\u001b[0m\u001b[1;33m\u001b[0m\u001b[0m\n\u001b[0m\u001b[0;32m     22\u001b[0m         \u001b[1;31m#print(z)\u001b[0m\u001b[1;33m\u001b[0m\u001b[1;33m\u001b[0m\u001b[0m\n\u001b[0;32m     23\u001b[0m         \u001b[1;32mif\u001b[0m \u001b[0mz\u001b[0m \u001b[1;33m>\u001b[0m \u001b[1;36m500\u001b[0m\u001b[1;33m:\u001b[0m\u001b[1;33m\u001b[0m\u001b[0m\n",
      "\u001b[1;32m<ipython-input-215-094aabd87228>\u001b[0m in \u001b[0;36mdivisors_num\u001b[1;34m(x)\u001b[0m\n\u001b[0;32m      9\u001b[0m     \u001b[0mx\u001b[0m \u001b[1;33m=\u001b[0m \u001b[0mint\u001b[0m\u001b[1;33m(\u001b[0m\u001b[0mmath\u001b[0m\u001b[1;33m.\u001b[0m\u001b[0msqrt\u001b[0m\u001b[1;33m(\u001b[0m\u001b[0mx\u001b[0m\u001b[1;33m)\u001b[0m\u001b[1;33m//\u001b[0m\u001b[1;36m1\u001b[0m\u001b[1;33m)\u001b[0m\u001b[1;33m\u001b[0m\u001b[0m\n\u001b[0;32m     10\u001b[0m     \u001b[1;32mfor\u001b[0m \u001b[0mi\u001b[0m \u001b[1;32min\u001b[0m \u001b[0mrange\u001b[0m\u001b[1;33m(\u001b[0m\u001b[1;36m1\u001b[0m\u001b[1;33m,\u001b[0m\u001b[0mx\u001b[0m\u001b[1;33m+\u001b[0m\u001b[1;36m1\u001b[0m\u001b[1;33m)\u001b[0m\u001b[1;33m:\u001b[0m\u001b[1;33m\u001b[0m\u001b[0m\n\u001b[1;32m---> 11\u001b[1;33m         \u001b[1;32mif\u001b[0m \u001b[0mx\u001b[0m \u001b[1;33m%\u001b[0m \u001b[0mi\u001b[0m \u001b[1;33m==\u001b[0m \u001b[1;36m0\u001b[0m\u001b[1;33m:\u001b[0m\u001b[1;33m\u001b[0m\u001b[0m\n\u001b[0m\u001b[0;32m     12\u001b[0m             \u001b[0mz\u001b[0m \u001b[1;33m+=\u001b[0m \u001b[1;36m2\u001b[0m\u001b[1;33m\u001b[0m\u001b[0m\n\u001b[0;32m     13\u001b[0m     \u001b[1;32mreturn\u001b[0m \u001b[0mz\u001b[0m\u001b[1;33m\u001b[0m\u001b[0m\n",
      "\u001b[1;31mKeyboardInterrupt\u001b[0m: "
     ]
    }
   ],
   "source": [
    "# Project Euler 12 This is the worst!\n",
    "import math\n",
    "def triangular_sum(x):\n",
    "    z = int(((x)*(x+1))/2)\n",
    "    return z\n",
    "\n",
    "def divisors_num (x):\n",
    "    z = 0\n",
    "    x = int(math.sqrt(x)//1)\n",
    "    for i in range(1,x+1):\n",
    "        if x % i == 0:\n",
    "            z += 2\n",
    "    return z\n",
    "\n",
    "cond = True\n",
    "max_cond = 8000000000\n",
    "while cond == True:\n",
    "    for i in range(2, max_cond):\n",
    "        y = triangular_sum(i)\n",
    "        #print (y)\n",
    "        z = divisors_num(y)\n",
    "        #print(z)\n",
    "        if z > 500:\n",
    "            print(triangular_sum(i))\n",
    "            print(z)\n",
    "            cond = False\n",
    "            break\n",
    "\n",
    "            \n",
    "            "
   ]
  },
  {
   "cell_type": "code",
   "execution_count": 222,
   "metadata": {
    "collapsed": false
   },
   "outputs": [
    {
     "name": "stdout",
     "output_type": "stream",
     "text": [
      "76576500\n"
     ]
    },
    {
     "data": {
      "text/plain": [
       "6.814032812893856"
      ]
     },
     "execution_count": 222,
     "metadata": {},
     "output_type": "execute_result"
    }
   ],
   "source": [
    "# Project Euler 12 This is the best!\n",
    "# I have hard time understanding where the speed up comes from!\n",
    "import timeit\n",
    "def test():\n",
    "    def main(limit = 500):\n",
    "        triangle, counter, length = 0, 0, 0\n",
    "        while length < limit:\n",
    "            counter += 1\n",
    "            triangle += counter\n",
    "            sqrt = triangle**0.5\n",
    "            length = 2 * sum(1 for i in range(1, 1+ int(sqrt)) if not triangle%i)\n",
    "            if not sqrt%1: length += 1\n",
    "        return triangle\n",
    "\n",
    "    print (main())\n",
    "timeit.timeit(\"test()\", \"from __main__ import test\", number = 1)"
   ]
  },
  {
   "cell_type": "code",
   "execution_count": 221,
   "metadata": {
    "collapsed": false
   },
   "outputs": [
    {
     "name": "stdout",
     "output_type": "stream",
     "text": [
      "76576500\n"
     ]
    },
    {
     "data": {
      "text/plain": [
       "8.251111040823162"
      ]
     },
     "execution_count": 221,
     "metadata": {},
     "output_type": "execute_result"
    }
   ],
   "source": [
    "# Project Euler 12 This is a good one two!\n",
    "import math\n",
    "import timeit\n",
    "def test():\n",
    "    def factors(number):\n",
    "        factors_list = [1]\n",
    "        for i in range(2, int(math.sqrt(number))+1):\n",
    "            if number % i == 0:\n",
    "                if (i != number/i):\n",
    "                    factors_list.append(i)\n",
    "                    factors_list.append(number / i)\n",
    "                else:\n",
    "                    factors_list.append(i)\n",
    "        factors_list.append(number)\n",
    "        return(len(factors_list))\n",
    "\n",
    "    length = 0\n",
    "    triangle_number = 1\n",
    "    adder = 2\n",
    "    while length < 500:\n",
    "        triangle_number += adder\n",
    "        length = factors(triangle_number)\n",
    "        adder += 1\n",
    "    print (triangle_number)\n",
    "timeit.timeit(\"test()\", \"from __main__ import test\", number = 1)"
   ]
  },
  {
   "cell_type": "code",
   "execution_count": 266,
   "metadata": {
    "collapsed": false
   },
   "outputs": [
    {
     "data": {
      "text/plain": [
       "'5537376230'"
      ]
     },
     "execution_count": 266,
     "metadata": {},
     "output_type": "execute_result"
    }
   ],
   "source": [
    "# Project Euler 13\n",
    "f = open(\"C:/Users/Shobeir/Desktop/number.txt\",\"r\")\n",
    "data = f.readlines()\n",
    "str(sum([int(data[i]) for i in range(0,100)]))[0:10]"
   ]
  },
  {
   "cell_type": "code",
   "execution_count": 292,
   "metadata": {
    "collapsed": false
   },
   "outputs": [
    {
     "data": {
      "text/plain": [
       "16.0"
      ]
     },
     "execution_count": 292,
     "metadata": {},
     "output_type": "execute_result"
    }
   ],
   "source": [
    "# Project Euler 14\n",
    "count = 0\n",
    "def func_rule(n):   \n",
    "    if n != 5:\n",
    "        if n % 2 == 0:\n",
    "            return func_rule (n/2)            \n",
    "        else:\n",
    "            return func_rule(3*n + 1)\n",
    "    else:\n",
    "        return 16.0\n",
    "    \n",
    "func_rule(13)"
   ]
  },
  {
   "cell_type": "code",
   "execution_count": 288,
   "metadata": {
    "collapsed": false
   },
   "outputs": [
    {
     "data": {
      "text/plain": [
       "[40]"
      ]
     },
     "execution_count": 288,
     "metadata": {},
     "output_type": "execute_result"
    }
   ],
   "source": [
    "x"
   ]
  },
  {
   "cell_type": "code",
   "execution_count": null,
   "metadata": {
    "collapsed": true
   },
   "outputs": [],
   "source": []
  }
 ],
 "metadata": {
  "kernelspec": {
   "display_name": "Python 3",
   "language": "python",
   "name": "python3"
  },
  "language_info": {
   "codemirror_mode": {
    "name": "ipython",
    "version": 3
   },
   "file_extension": ".py",
   "mimetype": "text/x-python",
   "name": "python",
   "nbconvert_exporter": "python",
   "pygments_lexer": "ipython3",
   "version": "3.5.1"
  }
 },
 "nbformat": 4,
 "nbformat_minor": 0
}
