{
 "cells": [
  {
   "cell_type": "code",
   "execution_count": 1,
   "metadata": {},
   "outputs": [],
   "source": [
    "import cv2\n",
    "import datetime\n",
    "import pandas as pd\n",
    "import csv\n",
    "from openalpr import Alpr"
   ]
  },
  {
   "cell_type": "code",
   "execution_count": 3,
   "metadata": {},
   "outputs": [
    {
     "ename": "SyntaxError",
     "evalue": "'continue' not properly in loop (<ipython-input-3-e729ec8a0ac5>, line 2)",
     "output_type": "error",
     "traceback": [
      "\u001b[1;36m  File \u001b[1;32m\"<ipython-input-3-e729ec8a0ac5>\"\u001b[1;36m, line \u001b[1;32m2\u001b[0m\n\u001b[1;33m    continue\u001b[0m\n\u001b[1;37m    ^\u001b[0m\n\u001b[1;31mSyntaxError\u001b[0m\u001b[1;31m:\u001b[0m 'continue' not properly in loop\n"
     ]
    }
   ],
   "source": [
    "def rotate_image(image):\n",
    "    (h, w) = image.shape[:2]\n",
    "    center = (w / 2, h / 2)\n",
    "\n",
    "    # rotate the image by 180 degrees\n",
    "    M = cv2.getRotationMatrix2D(center, 180, 1.0)\n",
    "    rotated = cv2.warpAffine(image, M, (w, h))\n",
    "    #cv2.imshow(\"rotated\", rotated)\n",
    "    cv2.waitKey(0)\n",
    "    return rotated\n",
    "\n",
    "\n",
    "def pred_alpr(image1): #### SHould add the region\n",
    "\n",
    "    alpr = Alpr(\"us\",\"/etc/openalpr/openalpr.conf\",\"/usr/share/openalpr/runtime_data\")\n",
    "    if not alpr.is_loaded():\n",
    "        print(\"Error loading OpenALPR\")\n",
    "        sys.exit(1)\n",
    "\n",
    "    alpr.set_top_n(1)\n",
    "    alpr.set_default_region(\"fl\")\n",
    "\n",
    "    results = alpr.recognize_array(image1) ####### MYLIE\n",
    "\n",
    "    i = 1\n",
    "    for plate in results['results']:\n",
    "        i += 0\n",
    "        if i < 2:\n",
    "            print(\"Plate #%d\" % i)\n",
    "            print(\"   %12s %12s\" % (\"Plate\", \"Confidence\"))\n",
    "            for candidate in plate['candidates']:\n",
    "                prefix = \"-\"\n",
    "                if candidate['matches_template']:\n",
    "                    prefix = \"*\"\n",
    "                    print(\"Plate Matches the Template\")\n",
    "\n",
    "                # print(\"  %s %12s%12f\" % (prefix, candidate['plate'], candidate['confidence']))\n",
    "\n",
    "    return candidate['plate'], candidate['confidence']\n",
    "\n",
    "    # Call when completely done to release memory\n",
    "    alpr.unload()\n",
    "    \n",
    "\n",
    "    \n",
    "def compare_prediction(pred1,confidence1,pred2,confidence2):\n",
    "    \n",
    "    if confidence1 >= confidence2:\n",
    "        return pred1, confidence1\n",
    "    else:\n",
    "        return pred2, confidence2\n",
    "\n",
    "    \n",
    "def save_prediction(sql_connection,image1,pred1,confidence1,image2,pred2,confidence2,ground_truth):\n",
    "    \n",
    "    continue\n",
    "    \n",
    "def save_final_prediction():\n",
    "    continue\n",
    "    \n",
    "\n",
    "    "
   ]
  },
  {
   "cell_type": "code",
   "execution_count": null,
   "metadata": {},
   "outputs": [],
   "source": []
  },
  {
   "cell_type": "raw",
   "metadata": {},
   "source": []
  },
  {
   "cell_type": "code",
   "execution_count": 2,
   "metadata": {},
   "outputs": [],
   "source": [
    "def rotate_image(image):\n",
    "    (h, w) = image.shape[:2]\n",
    "    center = (w / 2, h / 2)\n",
    "\n",
    "    # rotate the image by 180 degrees\n",
    "    M = cv2.getRotationMatrix2D(center, 180, 1.0)\n",
    "    rotated = cv2.warpAffine(image, M, (w, h))\n",
    "    #cv2.imshow(\"rotated\", rotated)\n",
    "    cv2.waitKey(0)\n",
    "    return rotated"
   ]
  },
  {
   "cell_type": "code",
   "execution_count": 2,
   "metadata": {},
   "outputs": [
    {
     "name": "stdout",
     "output_type": "stream",
     "text": [
      "Press the Esc key to close the program.\n",
      "Press the Space key to capture the plate image.\n",
      "Escape hit, closing...\n"
     ]
    }
   ],
   "source": [
    "\n",
    "if __name__ == \"__main__\":\n",
    "    \n",
    "    todaydate = str(datetime.date.today()).replace(\"-\",\"\")\n",
    "    \n",
    "    with open(f\"./{todaydate}Predictions.csv\",\"w\",newline='') as fpred:\n",
    "        with open(f\"./{todaydate}PredPlateManagement.csv\",\"w\",newline='') as f2pm: # The output to be used by plate management\n",
    "            \n",
    "            fieldnames_fpred = []\n",
    "            fieldnames_fpredPM = []\n",
    "            writer_f = csv.DictWriter(fpred, fieldnames=fieldnames_fpred)\n",
    "            writer_f.writeheader()\n",
    "\n",
    "            writer_fPM = csv.DictWriter(f2pm, fieldnames=fieldnames_fpredPM)\n",
    "            writer_fPM.writeheader()\n",
    "    \n",
    "            print(\"Press the Esc key to close the program.\")\n",
    "            print(\"Press the Space key to capture the plate image.\")\n",
    "\n",
    "\n",
    "            cam1 = cv2.VideoCapture(1)\n",
    "            #cam2 = cv2.VideoCapture(1)\n",
    "\n",
    "            cv2.namedWindow(\"TNR_ALPR\")\n",
    "\n",
    "            img_counter = 0\n",
    "\n",
    "            while True:\n",
    "                ret, frame = cam1.read()\n",
    "\n",
    "                cv2.imshow(\"test\", frame)\n",
    "                if not ret:\n",
    "                    break\n",
    "                k = cv2.waitKey(1)\n",
    "\n",
    "                if k%256 == 27:\n",
    "                    # ESC pressed\n",
    "                    print(\"Escape hit, closing...\")\n",
    "                    break\n",
    "                elif k%256 == 32:\n",
    "                    # SPACE pressed\n",
    "\n",
    "                    img_name = \"{}plateID_{}.png\".format(todaydate,img_counter)\n",
    "                    img_name_Rot = \"{}RotatedplateID_{}.png\".format(todaydate,img_counter)\n",
    "\n",
    "                    cv2.imwrite(img_name, frame)\n",
    "                    print(\"{} written!\".format(img_name))\n",
    "                    rotated_frame = rotate_image(frame)\n",
    "                    cv2.imwrite(img_name_Rot, rotated_frame)\n",
    "                    print(\"{} written!\".format(img_name_Rot))\n",
    "\n",
    "                    img_counter += 1\n",
    "\n",
    "                    pred1,conf1 = pred_alpr(frame)\n",
    "                    predRot1,confRot1 = pred_alpr(rotated_frame)\n",
    "\n",
    "                    #pred2,conf2 = pred_alpr(frame2)\n",
    "                    #predRot2,confRot2 = pred_alpr(rotated_frame2)\n",
    "\n",
    "\n",
    "                    final_pred1, final_confidence1 = compare_prediction(pred1,conf1,predRot1,confRot1)\n",
    "\n",
    "                    #final_pred2, final_confidence2 = compare_prediction(pred2,conf2,predRot2,confRot2)\n",
    "\n",
    "                    #final_pred, final_confidence = compare_prediction(final_pred1, final_confidence1,final_pred2, final_confidence2)\n",
    "\n",
    "\n",
    "\n",
    "\n",
    "\n",
    "\n",
    "            cam1.release()\n",
    "\n",
    "            cv2.destroyAllWindows()"
   ]
  },
  {
   "cell_type": "markdown",
   "metadata": {},
   "source": [
    "3 files :\n",
    "    1 mannual\n",
    "    2,3 from two cameras\n",
    "    \n",
    "    compare the final(from2and 3) with the manual"
   ]
  },
  {
   "cell_type": "code",
   "execution_count": null,
   "metadata": {},
   "outputs": [],
   "source": []
  },
  {
   "cell_type": "code",
   "execution_count": 10,
   "metadata": {},
   "outputs": [
    {
     "ename": "OSError",
     "evalue": "Unable to locate the OpenALPR library. Please make sure that OpenALPR is properly installed on your system and that the libraries are in the appropriate paths.",
     "output_type": "error",
     "traceback": [
      "\u001b[1;31m---------------------------------------------------------------------------\u001b[0m",
      "\u001b[1;31mOSError\u001b[0m                                   Traceback (most recent call last)",
      "\u001b[1;32m~\\AppData\\Local\\Continuum\\anaconda3\\lib\\site-packages\\openalpr\\openalpr.py\u001b[0m in \u001b[0;36m__init__\u001b[1;34m(self, country, config_file, runtime_dir)\u001b[0m\n\u001b[0;32m     50\u001b[0m             \u001b[1;32mif\u001b[0m \u001b[0mplatform\u001b[0m\u001b[1;33m.\u001b[0m\u001b[0msystem\u001b[0m\u001b[1;33m(\u001b[0m\u001b[1;33m)\u001b[0m\u001b[1;33m.\u001b[0m\u001b[0mlower\u001b[0m\u001b[1;33m(\u001b[0m\u001b[1;33m)\u001b[0m\u001b[1;33m.\u001b[0m\u001b[0mfind\u001b[0m\u001b[1;33m(\u001b[0m\u001b[1;34m\"windows\"\u001b[0m\u001b[1;33m)\u001b[0m \u001b[1;33m!=\u001b[0m \u001b[1;33m-\u001b[0m\u001b[1;36m1\u001b[0m\u001b[1;33m:\u001b[0m\u001b[1;33m\u001b[0m\u001b[0m\n\u001b[1;32m---> 51\u001b[1;33m                 \u001b[0mself\u001b[0m\u001b[1;33m.\u001b[0m\u001b[0m_openalprpy_lib\u001b[0m \u001b[1;33m=\u001b[0m \u001b[0mctypes\u001b[0m\u001b[1;33m.\u001b[0m\u001b[0mcdll\u001b[0m\u001b[1;33m.\u001b[0m\u001b[0mLoadLibrary\u001b[0m\u001b[1;33m(\u001b[0m\u001b[1;34m\"libopenalprpy.dll\"\u001b[0m\u001b[1;33m)\u001b[0m\u001b[1;33m\u001b[0m\u001b[0m\n\u001b[0m\u001b[0;32m     52\u001b[0m             \u001b[1;32melif\u001b[0m \u001b[0mplatform\u001b[0m\u001b[1;33m.\u001b[0m\u001b[0msystem\u001b[0m\u001b[1;33m(\u001b[0m\u001b[1;33m)\u001b[0m\u001b[1;33m.\u001b[0m\u001b[0mlower\u001b[0m\u001b[1;33m(\u001b[0m\u001b[1;33m)\u001b[0m\u001b[1;33m.\u001b[0m\u001b[0mfind\u001b[0m\u001b[1;33m(\u001b[0m\u001b[1;34m\"darwin\"\u001b[0m\u001b[1;33m)\u001b[0m \u001b[1;33m!=\u001b[0m \u001b[1;33m-\u001b[0m\u001b[1;36m1\u001b[0m\u001b[1;33m:\u001b[0m\u001b[1;33m\u001b[0m\u001b[0m\n",
      "\u001b[1;32m~\\AppData\\Local\\Continuum\\anaconda3\\lib\\ctypes\\__init__.py\u001b[0m in \u001b[0;36mLoadLibrary\u001b[1;34m(self, name)\u001b[0m\n\u001b[0;32m    425\u001b[0m     \u001b[1;32mdef\u001b[0m \u001b[0mLoadLibrary\u001b[0m\u001b[1;33m(\u001b[0m\u001b[0mself\u001b[0m\u001b[1;33m,\u001b[0m \u001b[0mname\u001b[0m\u001b[1;33m)\u001b[0m\u001b[1;33m:\u001b[0m\u001b[1;33m\u001b[0m\u001b[0m\n\u001b[1;32m--> 426\u001b[1;33m         \u001b[1;32mreturn\u001b[0m \u001b[0mself\u001b[0m\u001b[1;33m.\u001b[0m\u001b[0m_dlltype\u001b[0m\u001b[1;33m(\u001b[0m\u001b[0mname\u001b[0m\u001b[1;33m)\u001b[0m\u001b[1;33m\u001b[0m\u001b[0m\n\u001b[0m\u001b[0;32m    427\u001b[0m \u001b[1;33m\u001b[0m\u001b[0m\n",
      "\u001b[1;32m~\\AppData\\Local\\Continuum\\anaconda3\\lib\\ctypes\\__init__.py\u001b[0m in \u001b[0;36m__init__\u001b[1;34m(self, name, mode, handle, use_errno, use_last_error)\u001b[0m\n\u001b[0;32m    347\u001b[0m         \u001b[1;32mif\u001b[0m \u001b[0mhandle\u001b[0m \u001b[1;32mis\u001b[0m \u001b[1;32mNone\u001b[0m\u001b[1;33m:\u001b[0m\u001b[1;33m\u001b[0m\u001b[0m\n\u001b[1;32m--> 348\u001b[1;33m             \u001b[0mself\u001b[0m\u001b[1;33m.\u001b[0m\u001b[0m_handle\u001b[0m \u001b[1;33m=\u001b[0m \u001b[0m_dlopen\u001b[0m\u001b[1;33m(\u001b[0m\u001b[0mself\u001b[0m\u001b[1;33m.\u001b[0m\u001b[0m_name\u001b[0m\u001b[1;33m,\u001b[0m \u001b[0mmode\u001b[0m\u001b[1;33m)\u001b[0m\u001b[1;33m\u001b[0m\u001b[0m\n\u001b[0m\u001b[0;32m    349\u001b[0m         \u001b[1;32melse\u001b[0m\u001b[1;33m:\u001b[0m\u001b[1;33m\u001b[0m\u001b[0m\n",
      "\u001b[1;31mOSError\u001b[0m: [WinError 126] The specified module could not be found",
      "\nThe above exception was the direct cause of the following exception:\n",
      "\u001b[1;31mOSError\u001b[0m                                   Traceback (most recent call last)",
      "\u001b[1;32m<ipython-input-10-ae4f18c470f4>\u001b[0m in \u001b[0;36m<module>\u001b[1;34m()\u001b[0m\n\u001b[0;32m      1\u001b[0m \u001b[1;32mfrom\u001b[0m \u001b[0mopenalpr\u001b[0m \u001b[1;32mimport\u001b[0m \u001b[0mAlpr\u001b[0m\u001b[1;33m\u001b[0m\u001b[0m\n\u001b[0;32m      2\u001b[0m \u001b[1;33m\u001b[0m\u001b[0m\n\u001b[1;32m----> 3\u001b[1;33m \u001b[0malpr\u001b[0m \u001b[1;33m=\u001b[0m \u001b[0mAlpr\u001b[0m\u001b[1;33m(\u001b[0m\u001b[1;34m\"us\"\u001b[0m\u001b[1;33m,\u001b[0m\u001b[1;34m\"C:/Users/shobeir.mazinani/Desktop/ALPR/openalpr_64/openalpr.conf\"\u001b[0m\u001b[1;33m,\u001b[0m\u001b[1;34m\"C:/Users/shobeir.mazinani/Desktop/ALPR/openalpr_64//runtime_data\"\u001b[0m\u001b[1;33m)\u001b[0m\u001b[1;33m\u001b[0m\u001b[0m\n\u001b[0m\u001b[0;32m      4\u001b[0m \u001b[1;32mif\u001b[0m \u001b[1;32mnot\u001b[0m \u001b[0malpr\u001b[0m\u001b[1;33m.\u001b[0m\u001b[0mis_loaded\u001b[0m\u001b[1;33m(\u001b[0m\u001b[1;33m)\u001b[0m\u001b[1;33m:\u001b[0m\u001b[1;33m\u001b[0m\u001b[0m\n\u001b[0;32m      5\u001b[0m     \u001b[0mprint\u001b[0m\u001b[1;33m(\u001b[0m\u001b[1;34m\"Error loading OpenALPR\"\u001b[0m\u001b[1;33m)\u001b[0m\u001b[1;33m\u001b[0m\u001b[0m\n",
      "\u001b[1;32m~\\AppData\\Local\\Continuum\\anaconda3\\lib\\site-packages\\openalpr\\openalpr.py\u001b[0m in \u001b[0;36m__init__\u001b[1;34m(self, country, config_file, runtime_dir)\u001b[0m\n\u001b[0;32m     59\u001b[0m             \u001b[1;32mif\u001b[0m \u001b[0m_PYTHON_3\u001b[0m\u001b[1;33m:\u001b[0m\u001b[1;33m\u001b[0m\u001b[0m\n\u001b[0;32m     60\u001b[0m                 \u001b[0mnex\u001b[0m\u001b[1;33m.\u001b[0m\u001b[0m__cause__\u001b[0m \u001b[1;33m=\u001b[0m \u001b[0me\u001b[0m\u001b[1;33m;\u001b[0m\u001b[1;33m\u001b[0m\u001b[0m\n\u001b[1;32m---> 61\u001b[1;33m             \u001b[1;32mraise\u001b[0m \u001b[0mnex\u001b[0m\u001b[1;33m\u001b[0m\u001b[0m\n\u001b[0m\u001b[0;32m     62\u001b[0m \u001b[1;33m\u001b[0m\u001b[0m\n\u001b[0;32m     63\u001b[0m         \u001b[0mself\u001b[0m\u001b[1;33m.\u001b[0m\u001b[0m_initialize_func\u001b[0m \u001b[1;33m=\u001b[0m \u001b[0mself\u001b[0m\u001b[1;33m.\u001b[0m\u001b[0m_openalprpy_lib\u001b[0m\u001b[1;33m.\u001b[0m\u001b[0minitialize\u001b[0m\u001b[1;33m\u001b[0m\u001b[0m\n",
      "\u001b[1;31mOSError\u001b[0m: Unable to locate the OpenALPR library. Please make sure that OpenALPR is properly installed on your system and that the libraries are in the appropriate paths."
     ]
    }
   ],
   "source": [
    "from openalpr import Alpr\n",
    "\n",
    "alpr = Alpr(\"us\",\"C:/Users/shobeir.mazinani/Desktop/ALPR/openalpr_64/openalpr.conf\",\"C:/Users/shobeir.mazinani/Desktop/ALPR/openalpr_64//runtime_data\")\n",
    "if not alpr.is_loaded():\n",
    "    print(\"Error loading OpenALPR\")\n",
    "    sys.exit(1)\n",
    "    \n",
    "alpr.set_top_n(20)\n",
    "alpr.set_default_region(\"fl\")\n",
    "\n",
    "results = alpr.recognize_file(\"./938XQZ.jpg\")\n",
    "\n",
    "i = 0\n",
    "for plate in results['results']:\n",
    "    i += 1\n",
    "    print(\"Plate #%d\" % i)\n",
    "    print(\"   %12s %12s\" % (\"Plate\", \"Confidence\"))\n",
    "    for candidate in plate['candidates']:\n",
    "        prefix = \"-\"\n",
    "        if candidate['matches_template']:\n",
    "            prefix = \"*\"\n",
    "\n",
    "        print(\"  %s %12s%12f\" % (prefix, candidate['plate'], candidate['confidence']))\n",
    "\n",
    "# Call when completely done to release memory\n",
    "alpr.unload()"
   ]
  },
  {
   "cell_type": "code",
   "execution_count": null,
   "metadata": {},
   "outputs": [],
   "source": []
  }
 ],
 "metadata": {
  "kernelspec": {
   "display_name": "Python 3",
   "language": "python",
   "name": "python3"
  },
  "language_info": {
   "codemirror_mode": {
    "name": "ipython",
    "version": 3
   },
   "file_extension": ".py",
   "mimetype": "text/x-python",
   "name": "python",
   "nbconvert_exporter": "python",
   "pygments_lexer": "ipython3",
   "version": "3.6.4"
  }
 },
 "nbformat": 4,
 "nbformat_minor": 2
}
