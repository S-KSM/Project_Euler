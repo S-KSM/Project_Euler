{
 "cells": [
  {
   "cell_type": "code",
   "execution_count": 26,
   "metadata": {
    "collapsed": false
   },
   "outputs": [],
   "source": [
    "#numbers = pairs = ((0,\"1111110\"),(1,\"0110000\"),(2,\"1101101\"),(3,\"1111001\"),(4,\"0110011\"),(5,\"1011010\"),(6,\"1011111\"),(7,\"1110000\"),(8,\"1111111\"),(9,\"1110011\"))\n",
    "#d = dict(numbers)\n",
    "f = open(\"c:/Users/Shobeir/Downloads/A-small-practice(1).in\",\"r\")\n",
    "line = f.readlines()\n",
    "line = line[1:]\n",
    "# read the string\n",
    "def read_row(x):\n",
    "    \n",
    "    \n",
    "def read_row_numbers(x):\n",
    "    \n",
    "def decision(x):\n",
    "    \n",
    "for i in line: \n",
    "    if len(i) == 1:\n",
    "        read_row(i)\n",
    "    else:\n",
    "        next\n",
    "f.close()"
   ]
  },
  {
   "cell_type": "code",
   "execution_count": 29,
   "metadata": {
    "collapsed": false
   },
   "outputs": [
    {
     "name": "stdout",
     "output_type": "stream",
     "text": [
      "6\n",
      "7\n",
      "8\n",
      "9\n",
      "10\n",
      "11\n",
      "12\n",
      "13\n",
      "14\n",
      "16\n",
      "17\n",
      "18\n",
      "19\n"
     ]
    }
   ],
   "source": [
    "my = list(range(1,20))\n",
    "my[14] = 2\n",
    "for i in my:\n",
    "    if i > 5:\n",
    "        print(i)\n",
    "    else: \n",
    "        next\n",
    "        "
   ]
  },
  {
   "cell_type": "code",
   "execution_count": null,
   "metadata": {
    "collapsed": true
   },
   "outputs": [],
   "source": []
  }
 ],
 "metadata": {
  "kernelspec": {
   "display_name": "Python 3",
   "language": "python",
   "name": "python3"
  },
  "language_info": {
   "codemirror_mode": {
    "name": "ipython",
    "version": 3
   },
   "file_extension": ".py",
   "mimetype": "text/x-python",
   "name": "python",
   "nbconvert_exporter": "python",
   "pygments_lexer": "ipython3",
   "version": "3.5.1"
  }
 },
 "nbformat": 4,
 "nbformat_minor": 0
}
